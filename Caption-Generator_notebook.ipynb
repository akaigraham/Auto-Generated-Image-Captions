{
 "cells": [
  {
   "cell_type": "markdown",
   "id": "4b8c8005",
   "metadata": {},
   "source": [
    "# Image Caption Generator\n",
    "This process aims to create a model capable of auto-generating an image caption from the features within the photo. "
   ]
  },
  {
   "cell_type": "markdown",
   "id": "7659c0b0",
   "metadata": {},
   "source": [
    "## Business Understanding\n",
    "[...]"
   ]
  },
  {
   "cell_type": "markdown",
   "id": "90a78286",
   "metadata": {},
   "source": [
    "## Data Understanding\n",
    "The dataset leveraged throughout this process is the Flickr8k dataset.  "
   ]
  },
  {
   "cell_type": "markdown",
   "id": "2384cff8",
   "metadata": {},
   "source": [
    "### Resources:\n",
    "1. The following [post](https://www.analyticsvidhya.com/blog/2020/11/create-your-own-image-caption-generator-using-keras/) discussing implementation of an auto-caption generator in Keras. \n",
    "2. Download the Flickr30k dataset [here](https://www.kaggle.com/datasets/adityajn105/flickr8k) "
   ]
  },
  {
   "cell_type": "markdown",
   "id": "39ce3554",
   "metadata": {},
   "source": [
    "#### Load Dependencies"
   ]
  },
  {
   "cell_type": "code",
   "execution_count": 38,
   "id": "f09da08d",
   "metadata": {},
   "outputs": [],
   "source": [
    "# import libraries\n",
    "import pandas as pd\n",
    "import numpy as np\n",
    "import matplotlib.pyplot as plt\n",
    "import string\n",
    "import os\n",
    "import glob\n",
    "from nltk import word_tokenize\n",
    "from PIL import Image\n",
    "from time import time\n",
    "from keras import Input, layers, optimizers\n",
    "from keras.preprocessing import sequence, image\n",
    "from keras.preprocessing.text import Tokenizer\n",
    "from keras.preprocessing.sequence import pad_sequences\n",
    "from keras.layers import LSTM, Embedding, Dense, Activation, Flatten, Reshape, Dropout\n",
    "from keras.layers.wrappers import Bidirectional\n",
    "from keras.layers.merge import add\n",
    "from keras.applications.inception_v3 import InceptionV3, preprocess_input\n",
    "from keras.models import Model\n",
    "from keras.utils import to_categorical"
   ]
  },
  {
   "cell_type": "code",
   "execution_count": 39,
   "id": "03bc34a6",
   "metadata": {},
   "outputs": [],
   "source": [
    "# set up filepath for text file\n",
    "caption_path = '/Users/addingtongraham/Documents/datasets/Flickr8k/'"
   ]
  },
  {
   "cell_type": "code",
   "execution_count": 40,
   "id": "13918f95",
   "metadata": {},
   "outputs": [
    {
     "name": "stdout",
     "output_type": "stream",
     "text": [
      "['image,caption', '1000268201_693b08cb0e.jpg,A child in a pink dress is climbing up a set of stairs in an entry way .', '1000268201_693b08cb0e.jpg,A girl going into a wooden building .', '1000268201_693b08cb0e.jpg,A little girl climbing into a wooden playhouse .', '1000268201_693b08cb0e.jpg,A little girl climbing the stairs to her playhouse .', '1000268201_693b08cb0e.jpg,A little girl in a pink dress going into a wooden cabin .', '1001773457_577c3a7d70.jpg,A black dog and a spotted dog are fighting', '1001773457_577c3a7d70.jpg,A black dog and a tri-colored dog playing with each other on the road .', '1001773457_577c3a7d70.jpg,A black dog and a white dog with brown spots are staring at each other in the street .', '1001773457_577c3a7d70.jpg,Two dogs of different breeds looking at each other on the road .']\n"
     ]
    }
   ],
   "source": [
    "# load first few lines of captions.txt\n",
    "captions = open(caption_path+'captions.txt', 'r').read()\n",
    "\n",
    "# print first 10 lines\n",
    "print(captions.split('\\n')[:10])"
   ]
  },
  {
   "cell_type": "markdown",
   "id": "f18c116b",
   "metadata": {},
   "source": [
    "We get a list of our images, the captions, and the format of each image. Looking at the above, we can see that there are a number of descriptions presented for each image. For this reason, we will parse all the captions, and set up a dictionary with imageID as keys, and various captions as the values. \n",
    "\n",
    "We can also see that the first item in `captions.split('\\n')` can be dropped as it looks like a header"
   ]
  },
  {
   "cell_type": "code",
   "execution_count": 41,
   "id": "e9dde65c",
   "metadata": {},
   "outputs": [
    {
     "data": {
      "text/plain": [
       "['1000268201_693b08cb0e.jpg,A child in a pink dress is climbing up a set of stairs in an entry way .',\n",
       " '1000268201_693b08cb0e.jpg,A girl going into a wooden building .',\n",
       " '1000268201_693b08cb0e.jpg,A little girl climbing into a wooden playhouse .',\n",
       " '1000268201_693b08cb0e.jpg,A little girl climbing the stairs to her playhouse .',\n",
       " '1000268201_693b08cb0e.jpg,A little girl in a pink dress going into a wooden cabin .',\n",
       " '1001773457_577c3a7d70.jpg,A black dog and a spotted dog are fighting',\n",
       " '1001773457_577c3a7d70.jpg,A black dog and a tri-colored dog playing with each other on the road .',\n",
       " '1001773457_577c3a7d70.jpg,A black dog and a white dog with brown spots are staring at each other in the street .',\n",
       " '1001773457_577c3a7d70.jpg,Two dogs of different breeds looking at each other on the road .',\n",
       " '1001773457_577c3a7d70.jpg,Two dogs on pavement moving toward each other .']"
      ]
     },
     "execution_count": 41,
     "metadata": {},
     "output_type": "execute_result"
    }
   ],
   "source": [
    "# drop first item\n",
    "split_captions = captions.split('\\n')[1:]\n",
    "split_captions[:10]"
   ]
  },
  {
   "cell_type": "code",
   "execution_count": 47,
   "id": "aa6f6149",
   "metadata": {},
   "outputs": [
    {
     "data": {
      "text/plain": [
       "'1000268201_693b08cb0e.jpg'"
      ]
     },
     "execution_count": 47,
     "metadata": {},
     "output_type": "execute_result"
    }
   ],
   "source": [
    "line = split_captions[1]\n",
    "tokens = word_tokenize(line)\n",
    "tokens[0]"
   ]
  },
  {
   "cell_type": "markdown",
   "id": "84b7670b",
   "metadata": {},
   "source": [
    "With the first, nonsensical item in the list removed, will want to enter the file_id as a key in a dictionary, with all descriptions held as the value in a list."
   ]
  },
  {
   "cell_type": "code",
   "execution_count": 52,
   "id": "a241639c",
   "metadata": {},
   "outputs": [],
   "source": [
    "caption_dict = {}\n",
    "for line in split_captions:\n",
    "    \n",
    "    # ensure line is longer than 2 chars\n",
    "    if len(line) > 2:\n",
    "        \n",
    "        # generate tokens\n",
    "        tokens = word_tokenize(line)\n",
    "        img_id = tokens[0]\n",
    "        img_caption = ' '.join(tokens[1:])\n",
    "\n",
    "        # check if the id is already in the dictionary \n",
    "        if img_id not in caption_dict:\n",
    "\n",
    "            # add to dictionary if not in already\n",
    "            caption_dict[img_id] = []\n",
    "\n",
    "        # append description to appropriate id\n",
    "        caption_dict[img_id].append(img_caption)"
   ]
  },
  {
   "cell_type": "code",
   "execution_count": 59,
   "id": "4e348eda",
   "metadata": {},
   "outputs": [
    {
     "name": "stdout",
     "output_type": "stream",
     "text": [
      "[', A child in a pink dress is climbing up a set of stairs in an entry way .', ', A girl going into a wooden building .', ', A little girl climbing into a wooden playhouse .', ', A little girl climbing the stairs to her playhouse .', ', A little girl in a pink dress going into a wooden cabin .']\n",
      "\n",
      " [', A black dog and a spotted dog are fighting', ', A black dog and a tri-colored dog playing with each other on the road .', ', A black dog and a white dog with brown spots are staring at each other in the street .', ', Two dogs of different breeds looking at each other on the road .', ', Two dogs on pavement moving toward each other .']\n"
     ]
    }
   ],
   "source": [
    "# check this worked\n",
    "print(caption_dict['1000268201_693b08cb0e.jpg'])\n",
    "print('\\n', caption_dict['1001773457_577c3a7d70.jpg'])"
   ]
  },
  {
   "cell_type": "code",
   "execution_count": null,
   "id": "10e7622f",
   "metadata": {},
   "outputs": [],
   "source": []
  }
 ],
 "metadata": {
  "kernelspec": {
   "display_name": "Python 3",
   "language": "python",
   "name": "python3"
  },
  "language_info": {
   "codemirror_mode": {
    "name": "ipython",
    "version": 3
   },
   "file_extension": ".py",
   "mimetype": "text/x-python",
   "name": "python",
   "nbconvert_exporter": "python",
   "pygments_lexer": "ipython3",
   "version": "3.6.13"
  }
 },
 "nbformat": 4,
 "nbformat_minor": 5
}
